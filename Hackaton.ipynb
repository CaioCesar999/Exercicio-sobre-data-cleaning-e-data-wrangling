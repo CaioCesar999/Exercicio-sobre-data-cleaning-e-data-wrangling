{
  "nbformat": 4,
  "nbformat_minor": 0,
  "metadata": {
    "colab": {
      "name": "Hackaton.ipynb",
      "provenance": [],
      "collapsed_sections": []
    },
    "kernelspec": {
      "name": "python3",
      "display_name": "Python 3"
    },
    "language_info": {
      "name": "python"
    }
  },
  "cells": [
    {
      "cell_type": "code",
      "execution_count": null,
      "metadata": {
        "id": "A6uFnWrSOn9F"
      },
      "outputs": [],
      "source": [
        "import pandas as pd\n",
        "import numpy as np\n",
        "pd.set_option('display.float_format', lambda x: '%.2f' % x)"
      ]
    },
    {
      "cell_type": "code",
      "source": [
        "def leitura(path):\n",
        "  df = pd.read_csv(path)\n",
        "  return df"
      ],
      "metadata": {
        "id": "wVVVMsFanmkX"
      },
      "execution_count": null,
      "outputs": []
    },
    {
      "cell_type": "code",
      "source": [
        "def tratamento(df):\n",
        "  df.drop(['category_code', 'brand'], axis=1,inplace=True)\n",
        "  df.drop_duplicates(inplace=True)\n",
        "  delete = df[df['price']<0]\n",
        "  df.drop(delete.index, axis = 0,inplace=True)\n",
        "  df['event_time'] = df['event_time'].apply(lambda x: x[0:10])\n",
        "  df['event_time'] = pd.to_datetime(df['event_time'])\n",
        "  return df"
      ],
      "metadata": {
        "id": "Agt0j5oZnpOi"
      },
      "execution_count": null,
      "outputs": []
    },
    {
      "cell_type": "code",
      "source": [
        "df1 = leitura('/content/2019-Dec.csv')\n",
        "df2 = leitura('/content/2020-Jan.csv')"
      ],
      "metadata": {
        "id": "Tyh67AIKoSIz"
      },
      "execution_count": null,
      "outputs": []
    },
    {
      "cell_type": "code",
      "source": [
        "df1.to_csv('/content/2019_tratado-Dec.csv', index = False)\n",
        "df2.to_csv('/content/2020_tratado-Dec.csv', index = False)"
      ],
      "metadata": {
        "id": "bKEsjQZi2-u-"
      },
      "execution_count": null,
      "outputs": []
    },
    {
      "cell_type": "code",
      "source": [
        "tratamento(df1)"
      ],
      "metadata": {
        "colab": {
          "base_uri": "https://localhost:8080/",
          "height": 424
        },
        "id": "zy-0YFQVoSF3",
        "outputId": "be6e918b-4650-4109-b5ab-94f5034e800f"
      },
      "execution_count": null,
      "outputs": [
        {
          "output_type": "execute_result",
          "data": {
            "text/plain": [
              "       event_time        event_type  product_id          category_id  price  \\\n",
              "0      2019-12-01  remove_from_cart     5712790  1487580005268456287   6.27   \n",
              "1      2019-12-01              view     5764655  1487580005411062629  29.05   \n",
              "2      2019-12-01              cart        4958  1487580009471148064   1.19   \n",
              "3      2019-12-01              view     5848413  1487580007675986893   0.79   \n",
              "4      2019-12-01              view     5824148  1487580005511725929   5.56   \n",
              "...           ...               ...         ...                  ...    ...   \n",
              "294138 2019-12-03              view     5891173  1487580009496313889   3.97   \n",
              "294139 2019-12-03              cart     5809912  1602943681873052386   5.24   \n",
              "294140 2019-12-03          purchase        4497  2195085258272014535   3.11   \n",
              "294141 2019-12-03  remove_from_cart     5746439  1487580005754995573   4.44   \n",
              "294142 2019-12-03          purchase     5562100  2195085255034011676   2.86   \n",
              "\n",
              "          user_id                          user_session  \n",
              "0       576802932  51d85cb0-897f-48d2-918b-ad63965c12dc  \n",
              "1       412120092  8adff31e-2051-4894-9758-224bfa8aec18  \n",
              "2       494077766  c99a50e8-2fac-4c4d-89ec-41c05f114554  \n",
              "3       348405118  722ffea5-73c0-4924-8e8f-371ff8031af4  \n",
              "4       576005683  28172809-7e4a-45ce-bab0-5efa90117cd5  \n",
              "...           ...                                   ...  \n",
              "294138   72655920  c5643d68-0641-4f40-9f1e-7019a49ec320  \n",
              "294139  493814294  97160c22-8f38-41fa-8038-a45e09f520fc  \n",
              "294140  571396794  b7f13a00-ca44-4550-be7e-087724085f4b  \n",
              "294141  538066916  aea96fe3-6948-4840-af1c-86c69ac3c119  \n",
              "294142   57139679                                   NaN  \n",
              "\n",
              "[278143 rows x 7 columns]"
            ],
            "text/html": [
              "\n",
              "  <div id=\"df-a67cb04c-84a5-4d81-95a8-84af12838064\">\n",
              "    <div class=\"colab-df-container\">\n",
              "      <div>\n",
              "<style scoped>\n",
              "    .dataframe tbody tr th:only-of-type {\n",
              "        vertical-align: middle;\n",
              "    }\n",
              "\n",
              "    .dataframe tbody tr th {\n",
              "        vertical-align: top;\n",
              "    }\n",
              "\n",
              "    .dataframe thead th {\n",
              "        text-align: right;\n",
              "    }\n",
              "</style>\n",
              "<table border=\"1\" class=\"dataframe\">\n",
              "  <thead>\n",
              "    <tr style=\"text-align: right;\">\n",
              "      <th></th>\n",
              "      <th>event_time</th>\n",
              "      <th>event_type</th>\n",
              "      <th>product_id</th>\n",
              "      <th>category_id</th>\n",
              "      <th>price</th>\n",
              "      <th>user_id</th>\n",
              "      <th>user_session</th>\n",
              "    </tr>\n",
              "  </thead>\n",
              "  <tbody>\n",
              "    <tr>\n",
              "      <th>0</th>\n",
              "      <td>2019-12-01</td>\n",
              "      <td>remove_from_cart</td>\n",
              "      <td>5712790</td>\n",
              "      <td>1487580005268456287</td>\n",
              "      <td>6.27</td>\n",
              "      <td>576802932</td>\n",
              "      <td>51d85cb0-897f-48d2-918b-ad63965c12dc</td>\n",
              "    </tr>\n",
              "    <tr>\n",
              "      <th>1</th>\n",
              "      <td>2019-12-01</td>\n",
              "      <td>view</td>\n",
              "      <td>5764655</td>\n",
              "      <td>1487580005411062629</td>\n",
              "      <td>29.05</td>\n",
              "      <td>412120092</td>\n",
              "      <td>8adff31e-2051-4894-9758-224bfa8aec18</td>\n",
              "    </tr>\n",
              "    <tr>\n",
              "      <th>2</th>\n",
              "      <td>2019-12-01</td>\n",
              "      <td>cart</td>\n",
              "      <td>4958</td>\n",
              "      <td>1487580009471148064</td>\n",
              "      <td>1.19</td>\n",
              "      <td>494077766</td>\n",
              "      <td>c99a50e8-2fac-4c4d-89ec-41c05f114554</td>\n",
              "    </tr>\n",
              "    <tr>\n",
              "      <th>3</th>\n",
              "      <td>2019-12-01</td>\n",
              "      <td>view</td>\n",
              "      <td>5848413</td>\n",
              "      <td>1487580007675986893</td>\n",
              "      <td>0.79</td>\n",
              "      <td>348405118</td>\n",
              "      <td>722ffea5-73c0-4924-8e8f-371ff8031af4</td>\n",
              "    </tr>\n",
              "    <tr>\n",
              "      <th>4</th>\n",
              "      <td>2019-12-01</td>\n",
              "      <td>view</td>\n",
              "      <td>5824148</td>\n",
              "      <td>1487580005511725929</td>\n",
              "      <td>5.56</td>\n",
              "      <td>576005683</td>\n",
              "      <td>28172809-7e4a-45ce-bab0-5efa90117cd5</td>\n",
              "    </tr>\n",
              "    <tr>\n",
              "      <th>...</th>\n",
              "      <td>...</td>\n",
              "      <td>...</td>\n",
              "      <td>...</td>\n",
              "      <td>...</td>\n",
              "      <td>...</td>\n",
              "      <td>...</td>\n",
              "      <td>...</td>\n",
              "    </tr>\n",
              "    <tr>\n",
              "      <th>294138</th>\n",
              "      <td>2019-12-03</td>\n",
              "      <td>view</td>\n",
              "      <td>5891173</td>\n",
              "      <td>1487580009496313889</td>\n",
              "      <td>3.97</td>\n",
              "      <td>72655920</td>\n",
              "      <td>c5643d68-0641-4f40-9f1e-7019a49ec320</td>\n",
              "    </tr>\n",
              "    <tr>\n",
              "      <th>294139</th>\n",
              "      <td>2019-12-03</td>\n",
              "      <td>cart</td>\n",
              "      <td>5809912</td>\n",
              "      <td>1602943681873052386</td>\n",
              "      <td>5.24</td>\n",
              "      <td>493814294</td>\n",
              "      <td>97160c22-8f38-41fa-8038-a45e09f520fc</td>\n",
              "    </tr>\n",
              "    <tr>\n",
              "      <th>294140</th>\n",
              "      <td>2019-12-03</td>\n",
              "      <td>purchase</td>\n",
              "      <td>4497</td>\n",
              "      <td>2195085258272014535</td>\n",
              "      <td>3.11</td>\n",
              "      <td>571396794</td>\n",
              "      <td>b7f13a00-ca44-4550-be7e-087724085f4b</td>\n",
              "    </tr>\n",
              "    <tr>\n",
              "      <th>294141</th>\n",
              "      <td>2019-12-03</td>\n",
              "      <td>remove_from_cart</td>\n",
              "      <td>5746439</td>\n",
              "      <td>1487580005754995573</td>\n",
              "      <td>4.44</td>\n",
              "      <td>538066916</td>\n",
              "      <td>aea96fe3-6948-4840-af1c-86c69ac3c119</td>\n",
              "    </tr>\n",
              "    <tr>\n",
              "      <th>294142</th>\n",
              "      <td>2019-12-03</td>\n",
              "      <td>purchase</td>\n",
              "      <td>5562100</td>\n",
              "      <td>2195085255034011676</td>\n",
              "      <td>2.86</td>\n",
              "      <td>57139679</td>\n",
              "      <td>NaN</td>\n",
              "    </tr>\n",
              "  </tbody>\n",
              "</table>\n",
              "<p>278143 rows × 7 columns</p>\n",
              "</div>\n",
              "      <button class=\"colab-df-convert\" onclick=\"convertToInteractive('df-a67cb04c-84a5-4d81-95a8-84af12838064')\"\n",
              "              title=\"Convert this dataframe to an interactive table.\"\n",
              "              style=\"display:none;\">\n",
              "        \n",
              "  <svg xmlns=\"http://www.w3.org/2000/svg\" height=\"24px\"viewBox=\"0 0 24 24\"\n",
              "       width=\"24px\">\n",
              "    <path d=\"M0 0h24v24H0V0z\" fill=\"none\"/>\n",
              "    <path d=\"M18.56 5.44l.94 2.06.94-2.06 2.06-.94-2.06-.94-.94-2.06-.94 2.06-2.06.94zm-11 1L8.5 8.5l.94-2.06 2.06-.94-2.06-.94L8.5 2.5l-.94 2.06-2.06.94zm10 10l.94 2.06.94-2.06 2.06-.94-2.06-.94-.94-2.06-.94 2.06-2.06.94z\"/><path d=\"M17.41 7.96l-1.37-1.37c-.4-.4-.92-.59-1.43-.59-.52 0-1.04.2-1.43.59L10.3 9.45l-7.72 7.72c-.78.78-.78 2.05 0 2.83L4 21.41c.39.39.9.59 1.41.59.51 0 1.02-.2 1.41-.59l7.78-7.78 2.81-2.81c.8-.78.8-2.07 0-2.86zM5.41 20L4 18.59l7.72-7.72 1.47 1.35L5.41 20z\"/>\n",
              "  </svg>\n",
              "      </button>\n",
              "      \n",
              "  <style>\n",
              "    .colab-df-container {\n",
              "      display:flex;\n",
              "      flex-wrap:wrap;\n",
              "      gap: 12px;\n",
              "    }\n",
              "\n",
              "    .colab-df-convert {\n",
              "      background-color: #E8F0FE;\n",
              "      border: none;\n",
              "      border-radius: 50%;\n",
              "      cursor: pointer;\n",
              "      display: none;\n",
              "      fill: #1967D2;\n",
              "      height: 32px;\n",
              "      padding: 0 0 0 0;\n",
              "      width: 32px;\n",
              "    }\n",
              "\n",
              "    .colab-df-convert:hover {\n",
              "      background-color: #E2EBFA;\n",
              "      box-shadow: 0px 1px 2px rgba(60, 64, 67, 0.3), 0px 1px 3px 1px rgba(60, 64, 67, 0.15);\n",
              "      fill: #174EA6;\n",
              "    }\n",
              "\n",
              "    [theme=dark] .colab-df-convert {\n",
              "      background-color: #3B4455;\n",
              "      fill: #D2E3FC;\n",
              "    }\n",
              "\n",
              "    [theme=dark] .colab-df-convert:hover {\n",
              "      background-color: #434B5C;\n",
              "      box-shadow: 0px 1px 3px 1px rgba(0, 0, 0, 0.15);\n",
              "      filter: drop-shadow(0px 1px 2px rgba(0, 0, 0, 0.3));\n",
              "      fill: #FFFFFF;\n",
              "    }\n",
              "  </style>\n",
              "\n",
              "      <script>\n",
              "        const buttonEl =\n",
              "          document.querySelector('#df-a67cb04c-84a5-4d81-95a8-84af12838064 button.colab-df-convert');\n",
              "        buttonEl.style.display =\n",
              "          google.colab.kernel.accessAllowed ? 'block' : 'none';\n",
              "\n",
              "        async function convertToInteractive(key) {\n",
              "          const element = document.querySelector('#df-a67cb04c-84a5-4d81-95a8-84af12838064');\n",
              "          const dataTable =\n",
              "            await google.colab.kernel.invokeFunction('convertToInteractive',\n",
              "                                                     [key], {});\n",
              "          if (!dataTable) return;\n",
              "\n",
              "          const docLinkHtml = 'Like what you see? Visit the ' +\n",
              "            '<a target=\"_blank\" href=https://colab.research.google.com/notebooks/data_table.ipynb>data table notebook</a>'\n",
              "            + ' to learn more about interactive tables.';\n",
              "          element.innerHTML = '';\n",
              "          dataTable['output_type'] = 'display_data';\n",
              "          await google.colab.output.renderOutput(dataTable, element);\n",
              "          const docLink = document.createElement('div');\n",
              "          docLink.innerHTML = docLinkHtml;\n",
              "          element.appendChild(docLink);\n",
              "        }\n",
              "      </script>\n",
              "    </div>\n",
              "  </div>\n",
              "  "
            ]
          },
          "metadata": {},
          "execution_count": 31
        }
      ]
    },
    {
      "cell_type": "code",
      "source": [
        "tratamento(df2)"
      ],
      "metadata": {
        "colab": {
          "base_uri": "https://localhost:8080/",
          "height": 424
        },
        "id": "IRgfS8nxoSDQ",
        "outputId": "308ca4c6-a400-4beb-fe87-fa73fb85bf0a"
      },
      "execution_count": null,
      "outputs": [
        {
          "output_type": "execute_result",
          "data": {
            "text/plain": [
              "       event_time        event_type  product_id          category_id  price  \\\n",
              "0      2020-01-01              view     5809910  1602943681873052386   5.24   \n",
              "1      2020-01-01              view     5812943  1487580012121948301   3.97   \n",
              "2      2020-01-01              view     5798924  1783999068867920626   3.97   \n",
              "3      2020-01-01              view     5793052  1487580005754995573   4.92   \n",
              "4      2020-01-01              view     5899926  2115334439910245200   3.92   \n",
              "...           ...               ...         ...                  ...    ...   \n",
              "116043 2020-01-02              view     5868796  1783999064103190764  19.05   \n",
              "116044 2020-01-02              cart     5725885  1487580009605365797   0.71   \n",
              "116045 2020-01-02  remove_from_cart     5683737  1487580005595612013   3.00   \n",
              "116046 2020-01-02              view     5808979  1487580008053474272  56.90   \n",
              "116047 2020-01-02              view     5852897  1998040849203594085   2.73   \n",
              "\n",
              "          user_id                          user_session  \n",
              "0       595414620  4adb70bb-edbd-4981-b60f-a05bfd32683a  \n",
              "1       595414640  c8c5205d-be43-4f1d-aa56-4828b8151c8a  \n",
              "2       595412617  46a5010f-bd69-4fbe-a00d-bb17aa7b46f3  \n",
              "3       420652863  546f6af3-a517-4752-a98b-80c4c5860711  \n",
              "4       484071203  cff70ddf-529e-4b0c-a4fc-f43a749c0acb  \n",
              "...           ...                                   ...  \n",
              "116043  504468592  0321ae50-9a8d-4dac-b313-a80dfbd58ddc  \n",
              "116044  481898613  f07d3ca9-a385-4a7c-a924-2e87073078da  \n",
              "116045  587288577  5381c078-8862-41c5-8650-5b141eb5b71b  \n",
              "116046  375846597  73d6d1ca-e8ab-4c97-a82b-0491ee93b258  \n",
              "116047  231949596                    74d32f13-7296-497c  \n",
              "\n",
              "[109216 rows x 7 columns]"
            ],
            "text/html": [
              "\n",
              "  <div id=\"df-24b9d6a0-a3be-425e-85e7-7715042bd655\">\n",
              "    <div class=\"colab-df-container\">\n",
              "      <div>\n",
              "<style scoped>\n",
              "    .dataframe tbody tr th:only-of-type {\n",
              "        vertical-align: middle;\n",
              "    }\n",
              "\n",
              "    .dataframe tbody tr th {\n",
              "        vertical-align: top;\n",
              "    }\n",
              "\n",
              "    .dataframe thead th {\n",
              "        text-align: right;\n",
              "    }\n",
              "</style>\n",
              "<table border=\"1\" class=\"dataframe\">\n",
              "  <thead>\n",
              "    <tr style=\"text-align: right;\">\n",
              "      <th></th>\n",
              "      <th>event_time</th>\n",
              "      <th>event_type</th>\n",
              "      <th>product_id</th>\n",
              "      <th>category_id</th>\n",
              "      <th>price</th>\n",
              "      <th>user_id</th>\n",
              "      <th>user_session</th>\n",
              "    </tr>\n",
              "  </thead>\n",
              "  <tbody>\n",
              "    <tr>\n",
              "      <th>0</th>\n",
              "      <td>2020-01-01</td>\n",
              "      <td>view</td>\n",
              "      <td>5809910</td>\n",
              "      <td>1602943681873052386</td>\n",
              "      <td>5.24</td>\n",
              "      <td>595414620</td>\n",
              "      <td>4adb70bb-edbd-4981-b60f-a05bfd32683a</td>\n",
              "    </tr>\n",
              "    <tr>\n",
              "      <th>1</th>\n",
              "      <td>2020-01-01</td>\n",
              "      <td>view</td>\n",
              "      <td>5812943</td>\n",
              "      <td>1487580012121948301</td>\n",
              "      <td>3.97</td>\n",
              "      <td>595414640</td>\n",
              "      <td>c8c5205d-be43-4f1d-aa56-4828b8151c8a</td>\n",
              "    </tr>\n",
              "    <tr>\n",
              "      <th>2</th>\n",
              "      <td>2020-01-01</td>\n",
              "      <td>view</td>\n",
              "      <td>5798924</td>\n",
              "      <td>1783999068867920626</td>\n",
              "      <td>3.97</td>\n",
              "      <td>595412617</td>\n",
              "      <td>46a5010f-bd69-4fbe-a00d-bb17aa7b46f3</td>\n",
              "    </tr>\n",
              "    <tr>\n",
              "      <th>3</th>\n",
              "      <td>2020-01-01</td>\n",
              "      <td>view</td>\n",
              "      <td>5793052</td>\n",
              "      <td>1487580005754995573</td>\n",
              "      <td>4.92</td>\n",
              "      <td>420652863</td>\n",
              "      <td>546f6af3-a517-4752-a98b-80c4c5860711</td>\n",
              "    </tr>\n",
              "    <tr>\n",
              "      <th>4</th>\n",
              "      <td>2020-01-01</td>\n",
              "      <td>view</td>\n",
              "      <td>5899926</td>\n",
              "      <td>2115334439910245200</td>\n",
              "      <td>3.92</td>\n",
              "      <td>484071203</td>\n",
              "      <td>cff70ddf-529e-4b0c-a4fc-f43a749c0acb</td>\n",
              "    </tr>\n",
              "    <tr>\n",
              "      <th>...</th>\n",
              "      <td>...</td>\n",
              "      <td>...</td>\n",
              "      <td>...</td>\n",
              "      <td>...</td>\n",
              "      <td>...</td>\n",
              "      <td>...</td>\n",
              "      <td>...</td>\n",
              "    </tr>\n",
              "    <tr>\n",
              "      <th>116043</th>\n",
              "      <td>2020-01-02</td>\n",
              "      <td>view</td>\n",
              "      <td>5868796</td>\n",
              "      <td>1783999064103190764</td>\n",
              "      <td>19.05</td>\n",
              "      <td>504468592</td>\n",
              "      <td>0321ae50-9a8d-4dac-b313-a80dfbd58ddc</td>\n",
              "    </tr>\n",
              "    <tr>\n",
              "      <th>116044</th>\n",
              "      <td>2020-01-02</td>\n",
              "      <td>cart</td>\n",
              "      <td>5725885</td>\n",
              "      <td>1487580009605365797</td>\n",
              "      <td>0.71</td>\n",
              "      <td>481898613</td>\n",
              "      <td>f07d3ca9-a385-4a7c-a924-2e87073078da</td>\n",
              "    </tr>\n",
              "    <tr>\n",
              "      <th>116045</th>\n",
              "      <td>2020-01-02</td>\n",
              "      <td>remove_from_cart</td>\n",
              "      <td>5683737</td>\n",
              "      <td>1487580005595612013</td>\n",
              "      <td>3.00</td>\n",
              "      <td>587288577</td>\n",
              "      <td>5381c078-8862-41c5-8650-5b141eb5b71b</td>\n",
              "    </tr>\n",
              "    <tr>\n",
              "      <th>116046</th>\n",
              "      <td>2020-01-02</td>\n",
              "      <td>view</td>\n",
              "      <td>5808979</td>\n",
              "      <td>1487580008053474272</td>\n",
              "      <td>56.90</td>\n",
              "      <td>375846597</td>\n",
              "      <td>73d6d1ca-e8ab-4c97-a82b-0491ee93b258</td>\n",
              "    </tr>\n",
              "    <tr>\n",
              "      <th>116047</th>\n",
              "      <td>2020-01-02</td>\n",
              "      <td>view</td>\n",
              "      <td>5852897</td>\n",
              "      <td>1998040849203594085</td>\n",
              "      <td>2.73</td>\n",
              "      <td>231949596</td>\n",
              "      <td>74d32f13-7296-497c</td>\n",
              "    </tr>\n",
              "  </tbody>\n",
              "</table>\n",
              "<p>109216 rows × 7 columns</p>\n",
              "</div>\n",
              "      <button class=\"colab-df-convert\" onclick=\"convertToInteractive('df-24b9d6a0-a3be-425e-85e7-7715042bd655')\"\n",
              "              title=\"Convert this dataframe to an interactive table.\"\n",
              "              style=\"display:none;\">\n",
              "        \n",
              "  <svg xmlns=\"http://www.w3.org/2000/svg\" height=\"24px\"viewBox=\"0 0 24 24\"\n",
              "       width=\"24px\">\n",
              "    <path d=\"M0 0h24v24H0V0z\" fill=\"none\"/>\n",
              "    <path d=\"M18.56 5.44l.94 2.06.94-2.06 2.06-.94-2.06-.94-.94-2.06-.94 2.06-2.06.94zm-11 1L8.5 8.5l.94-2.06 2.06-.94-2.06-.94L8.5 2.5l-.94 2.06-2.06.94zm10 10l.94 2.06.94-2.06 2.06-.94-2.06-.94-.94-2.06-.94 2.06-2.06.94z\"/><path d=\"M17.41 7.96l-1.37-1.37c-.4-.4-.92-.59-1.43-.59-.52 0-1.04.2-1.43.59L10.3 9.45l-7.72 7.72c-.78.78-.78 2.05 0 2.83L4 21.41c.39.39.9.59 1.41.59.51 0 1.02-.2 1.41-.59l7.78-7.78 2.81-2.81c.8-.78.8-2.07 0-2.86zM5.41 20L4 18.59l7.72-7.72 1.47 1.35L5.41 20z\"/>\n",
              "  </svg>\n",
              "      </button>\n",
              "      \n",
              "  <style>\n",
              "    .colab-df-container {\n",
              "      display:flex;\n",
              "      flex-wrap:wrap;\n",
              "      gap: 12px;\n",
              "    }\n",
              "\n",
              "    .colab-df-convert {\n",
              "      background-color: #E8F0FE;\n",
              "      border: none;\n",
              "      border-radius: 50%;\n",
              "      cursor: pointer;\n",
              "      display: none;\n",
              "      fill: #1967D2;\n",
              "      height: 32px;\n",
              "      padding: 0 0 0 0;\n",
              "      width: 32px;\n",
              "    }\n",
              "\n",
              "    .colab-df-convert:hover {\n",
              "      background-color: #E2EBFA;\n",
              "      box-shadow: 0px 1px 2px rgba(60, 64, 67, 0.3), 0px 1px 3px 1px rgba(60, 64, 67, 0.15);\n",
              "      fill: #174EA6;\n",
              "    }\n",
              "\n",
              "    [theme=dark] .colab-df-convert {\n",
              "      background-color: #3B4455;\n",
              "      fill: #D2E3FC;\n",
              "    }\n",
              "\n",
              "    [theme=dark] .colab-df-convert:hover {\n",
              "      background-color: #434B5C;\n",
              "      box-shadow: 0px 1px 3px 1px rgba(0, 0, 0, 0.15);\n",
              "      filter: drop-shadow(0px 1px 2px rgba(0, 0, 0, 0.3));\n",
              "      fill: #FFFFFF;\n",
              "    }\n",
              "  </style>\n",
              "\n",
              "      <script>\n",
              "        const buttonEl =\n",
              "          document.querySelector('#df-24b9d6a0-a3be-425e-85e7-7715042bd655 button.colab-df-convert');\n",
              "        buttonEl.style.display =\n",
              "          google.colab.kernel.accessAllowed ? 'block' : 'none';\n",
              "\n",
              "        async function convertToInteractive(key) {\n",
              "          const element = document.querySelector('#df-24b9d6a0-a3be-425e-85e7-7715042bd655');\n",
              "          const dataTable =\n",
              "            await google.colab.kernel.invokeFunction('convertToInteractive',\n",
              "                                                     [key], {});\n",
              "          if (!dataTable) return;\n",
              "\n",
              "          const docLinkHtml = 'Like what you see? Visit the ' +\n",
              "            '<a target=\"_blank\" href=https://colab.research.google.com/notebooks/data_table.ipynb>data table notebook</a>'\n",
              "            + ' to learn more about interactive tables.';\n",
              "          element.innerHTML = '';\n",
              "          dataTable['output_type'] = 'display_data';\n",
              "          await google.colab.output.renderOutput(dataTable, element);\n",
              "          const docLink = document.createElement('div');\n",
              "          docLink.innerHTML = docLinkHtml;\n",
              "          element.appendChild(docLink);\n",
              "        }\n",
              "      </script>\n",
              "    </div>\n",
              "  </div>\n",
              "  "
            ]
          },
          "metadata": {},
          "execution_count": 13
        }
      ]
    },
    {
      "cell_type": "code",
      "source": [
        ""
      ],
      "metadata": {
        "id": "yXeIMzmW3j-L"
      },
      "execution_count": null,
      "outputs": []
    },
    {
      "cell_type": "markdown",
      "source": [
        "##RESCUNHO"
      ],
      "metadata": {
        "id": "JupSnKfa3nkS"
      }
    },
    {
      "cell_type": "markdown",
      "source": [
        ""
      ],
      "metadata": {
        "id": "0cO6yDX-2yCb"
      }
    },
    {
      "cell_type": "code",
      "source": [
        "pd.unique(df1[['user_id', 'event_type']].values.ravel()) "
      ],
      "metadata": {
        "colab": {
          "base_uri": "https://localhost:8080/"
        },
        "id": "EOCEvTIAs1d7",
        "outputId": "bc066621-35be-4dbf-82aa-879531f3ac47"
      },
      "execution_count": null,
      "outputs": [
        {
          "output_type": "execute_result",
          "data": {
            "text/plain": [
              "array([576802932, 'remove_from_cart', 412120092, ..., 580514778,\n",
              "       447518875, 580514828], dtype=object)"
            ]
          },
          "metadata": {},
          "execution_count": 17
        }
      ]
    },
    {
      "cell_type": "code",
      "source": [
        "df = df1.copy()"
      ],
      "metadata": {
        "id": "83oGJVuhPKlI"
      },
      "execution_count": null,
      "outputs": []
    },
    {
      "cell_type": "code",
      "source": [
        "df.dtypes"
      ],
      "metadata": {
        "colab": {
          "base_uri": "https://localhost:8080/"
        },
        "id": "wsgy0mfpPSc5",
        "outputId": "8ae008a6-e6b3-48a2-f70d-e5e0ebd5bad8"
      },
      "execution_count": null,
      "outputs": [
        {
          "output_type": "execute_result",
          "data": {
            "text/plain": [
              "event_time      datetime64[ns]\n",
              "event_type              object\n",
              "product_id               int64\n",
              "category_id              int64\n",
              "price                  float64\n",
              "user_id                  int64\n",
              "user_session            object\n",
              "dtype: object"
            ]
          },
          "metadata": {},
          "execution_count": 20
        }
      ]
    },
    {
      "cell_type": "code",
      "source": [
        "df.head()"
      ],
      "metadata": {
        "id": "8_Jsc9vbUf4k"
      },
      "execution_count": null,
      "outputs": []
    },
    {
      "cell_type": "code",
      "source": [
        "df.describe()"
      ],
      "metadata": {
        "colab": {
          "base_uri": "https://localhost:8080/",
          "height": 300
        },
        "id": "hpqdOlCmPYV1",
        "outputId": "d3018601-930b-495c-c346-c95a6f2853ed"
      },
      "execution_count": null,
      "outputs": [
        {
          "output_type": "execute_result",
          "data": {
            "text/plain": [
              "       product_id            category_id     price      user_id\n",
              "count   108845.00              108845.00 108845.00    108845.00\n",
              "mean   5477226.18 1553520944203491840.00      8.87 519238499.21\n",
              "std    1326742.07  169969202057263488.00     20.25  84132790.73\n",
              "min       3762.00 1487580004832248576.00      0.00   9794320.00\n",
              "25%    5731456.00 1487580006300255232.00      1.98 485709311.00\n",
              "50%    5813489.00 1487580008263189504.00      3.97 555356175.00\n",
              "75%    5859403.00 1487580013506068736.00      7.14 579304039.00\n",
              "max    5909810.00 2235524499636224256.00    327.78 580514828.00"
            ],
            "text/html": [
              "\n",
              "  <div id=\"df-0150e345-2a23-4137-96a8-7d3d16a95385\">\n",
              "    <div class=\"colab-df-container\">\n",
              "      <div>\n",
              "<style scoped>\n",
              "    .dataframe tbody tr th:only-of-type {\n",
              "        vertical-align: middle;\n",
              "    }\n",
              "\n",
              "    .dataframe tbody tr th {\n",
              "        vertical-align: top;\n",
              "    }\n",
              "\n",
              "    .dataframe thead th {\n",
              "        text-align: right;\n",
              "    }\n",
              "</style>\n",
              "<table border=\"1\" class=\"dataframe\">\n",
              "  <thead>\n",
              "    <tr style=\"text-align: right;\">\n",
              "      <th></th>\n",
              "      <th>product_id</th>\n",
              "      <th>category_id</th>\n",
              "      <th>price</th>\n",
              "      <th>user_id</th>\n",
              "    </tr>\n",
              "  </thead>\n",
              "  <tbody>\n",
              "    <tr>\n",
              "      <th>count</th>\n",
              "      <td>108845.00</td>\n",
              "      <td>108845.00</td>\n",
              "      <td>108845.00</td>\n",
              "      <td>108845.00</td>\n",
              "    </tr>\n",
              "    <tr>\n",
              "      <th>mean</th>\n",
              "      <td>5477226.18</td>\n",
              "      <td>1553520944203491840.00</td>\n",
              "      <td>8.87</td>\n",
              "      <td>519238499.21</td>\n",
              "    </tr>\n",
              "    <tr>\n",
              "      <th>std</th>\n",
              "      <td>1326742.07</td>\n",
              "      <td>169969202057263488.00</td>\n",
              "      <td>20.25</td>\n",
              "      <td>84132790.73</td>\n",
              "    </tr>\n",
              "    <tr>\n",
              "      <th>min</th>\n",
              "      <td>3762.00</td>\n",
              "      <td>1487580004832248576.00</td>\n",
              "      <td>0.00</td>\n",
              "      <td>9794320.00</td>\n",
              "    </tr>\n",
              "    <tr>\n",
              "      <th>25%</th>\n",
              "      <td>5731456.00</td>\n",
              "      <td>1487580006300255232.00</td>\n",
              "      <td>1.98</td>\n",
              "      <td>485709311.00</td>\n",
              "    </tr>\n",
              "    <tr>\n",
              "      <th>50%</th>\n",
              "      <td>5813489.00</td>\n",
              "      <td>1487580008263189504.00</td>\n",
              "      <td>3.97</td>\n",
              "      <td>555356175.00</td>\n",
              "    </tr>\n",
              "    <tr>\n",
              "      <th>75%</th>\n",
              "      <td>5859403.00</td>\n",
              "      <td>1487580013506068736.00</td>\n",
              "      <td>7.14</td>\n",
              "      <td>579304039.00</td>\n",
              "    </tr>\n",
              "    <tr>\n",
              "      <th>max</th>\n",
              "      <td>5909810.00</td>\n",
              "      <td>2235524499636224256.00</td>\n",
              "      <td>327.78</td>\n",
              "      <td>580514828.00</td>\n",
              "    </tr>\n",
              "  </tbody>\n",
              "</table>\n",
              "</div>\n",
              "      <button class=\"colab-df-convert\" onclick=\"convertToInteractive('df-0150e345-2a23-4137-96a8-7d3d16a95385')\"\n",
              "              title=\"Convert this dataframe to an interactive table.\"\n",
              "              style=\"display:none;\">\n",
              "        \n",
              "  <svg xmlns=\"http://www.w3.org/2000/svg\" height=\"24px\"viewBox=\"0 0 24 24\"\n",
              "       width=\"24px\">\n",
              "    <path d=\"M0 0h24v24H0V0z\" fill=\"none\"/>\n",
              "    <path d=\"M18.56 5.44l.94 2.06.94-2.06 2.06-.94-2.06-.94-.94-2.06-.94 2.06-2.06.94zm-11 1L8.5 8.5l.94-2.06 2.06-.94-2.06-.94L8.5 2.5l-.94 2.06-2.06.94zm10 10l.94 2.06.94-2.06 2.06-.94-2.06-.94-.94-2.06-.94 2.06-2.06.94z\"/><path d=\"M17.41 7.96l-1.37-1.37c-.4-.4-.92-.59-1.43-.59-.52 0-1.04.2-1.43.59L10.3 9.45l-7.72 7.72c-.78.78-.78 2.05 0 2.83L4 21.41c.39.39.9.59 1.41.59.51 0 1.02-.2 1.41-.59l7.78-7.78 2.81-2.81c.8-.78.8-2.07 0-2.86zM5.41 20L4 18.59l7.72-7.72 1.47 1.35L5.41 20z\"/>\n",
              "  </svg>\n",
              "      </button>\n",
              "      \n",
              "  <style>\n",
              "    .colab-df-container {\n",
              "      display:flex;\n",
              "      flex-wrap:wrap;\n",
              "      gap: 12px;\n",
              "    }\n",
              "\n",
              "    .colab-df-convert {\n",
              "      background-color: #E8F0FE;\n",
              "      border: none;\n",
              "      border-radius: 50%;\n",
              "      cursor: pointer;\n",
              "      display: none;\n",
              "      fill: #1967D2;\n",
              "      height: 32px;\n",
              "      padding: 0 0 0 0;\n",
              "      width: 32px;\n",
              "    }\n",
              "\n",
              "    .colab-df-convert:hover {\n",
              "      background-color: #E2EBFA;\n",
              "      box-shadow: 0px 1px 2px rgba(60, 64, 67, 0.3), 0px 1px 3px 1px rgba(60, 64, 67, 0.15);\n",
              "      fill: #174EA6;\n",
              "    }\n",
              "\n",
              "    [theme=dark] .colab-df-convert {\n",
              "      background-color: #3B4455;\n",
              "      fill: #D2E3FC;\n",
              "    }\n",
              "\n",
              "    [theme=dark] .colab-df-convert:hover {\n",
              "      background-color: #434B5C;\n",
              "      box-shadow: 0px 1px 3px 1px rgba(0, 0, 0, 0.15);\n",
              "      filter: drop-shadow(0px 1px 2px rgba(0, 0, 0, 0.3));\n",
              "      fill: #FFFFFF;\n",
              "    }\n",
              "  </style>\n",
              "\n",
              "      <script>\n",
              "        const buttonEl =\n",
              "          document.querySelector('#df-0150e345-2a23-4137-96a8-7d3d16a95385 button.colab-df-convert');\n",
              "        buttonEl.style.display =\n",
              "          google.colab.kernel.accessAllowed ? 'block' : 'none';\n",
              "\n",
              "        async function convertToInteractive(key) {\n",
              "          const element = document.querySelector('#df-0150e345-2a23-4137-96a8-7d3d16a95385');\n",
              "          const dataTable =\n",
              "            await google.colab.kernel.invokeFunction('convertToInteractive',\n",
              "                                                     [key], {});\n",
              "          if (!dataTable) return;\n",
              "\n",
              "          const docLinkHtml = 'Like what you see? Visit the ' +\n",
              "            '<a target=\"_blank\" href=https://colab.research.google.com/notebooks/data_table.ipynb>data table notebook</a>'\n",
              "            + ' to learn more about interactive tables.';\n",
              "          element.innerHTML = '';\n",
              "          dataTable['output_type'] = 'display_data';\n",
              "          await google.colab.output.renderOutput(dataTable, element);\n",
              "          const docLink = document.createElement('div');\n",
              "          docLink.innerHTML = docLinkHtml;\n",
              "          element.appendChild(docLink);\n",
              "        }\n",
              "      </script>\n",
              "    </div>\n",
              "  </div>\n",
              "  "
            ]
          },
          "metadata": {},
          "execution_count": 21
        }
      ]
    },
    {
      "cell_type": "code",
      "source": [
        "df.info()"
      ],
      "metadata": {
        "colab": {
          "base_uri": "https://localhost:8080/"
        },
        "id": "pCzxmE9NPqx4",
        "outputId": "13192c50-f451-4905-aeec-e37b831dc4af"
      },
      "execution_count": null,
      "outputs": [
        {
          "output_type": "stream",
          "name": "stdout",
          "text": [
            "<class 'pandas.core.frame.DataFrame'>\n",
            "Int64Index: 108845 entries, 0 to 115747\n",
            "Data columns (total 7 columns):\n",
            " #   Column        Non-Null Count   Dtype         \n",
            "---  ------        --------------   -----         \n",
            " 0   event_time    108845 non-null  datetime64[ns]\n",
            " 1   event_type    108845 non-null  object        \n",
            " 2   product_id    108845 non-null  int64         \n",
            " 3   category_id   108845 non-null  int64         \n",
            " 4   price         108845 non-null  float64       \n",
            " 5   user_id       108845 non-null  int64         \n",
            " 6   user_session  108809 non-null  object        \n",
            "dtypes: datetime64[ns](1), float64(1), int64(3), object(2)\n",
            "memory usage: 10.7+ MB\n"
          ]
        }
      ]
    },
    {
      "cell_type": "code",
      "source": [
        "df.isnull().sum(axis = 0)"
      ],
      "metadata": {
        "colab": {
          "base_uri": "https://localhost:8080/"
        },
        "id": "4bt8rpwkP8ra",
        "outputId": "e563ad40-33e6-4c29-d3a1-67b619b591fa"
      },
      "execution_count": null,
      "outputs": [
        {
          "output_type": "execute_result",
          "data": {
            "text/plain": [
              "event_time       0\n",
              "event_type       0\n",
              "product_id       0\n",
              "category_id      0\n",
              "price            0\n",
              "user_id          0\n",
              "user_session    36\n",
              "dtype: int64"
            ]
          },
          "metadata": {},
          "execution_count": 23
        }
      ]
    },
    {
      "cell_type": "code",
      "source": [
        "df[['user_id']].value_counts()"
      ],
      "metadata": {
        "colab": {
          "base_uri": "https://localhost:8080/"
        },
        "id": "SMBUbdANR2lB",
        "outputId": "a568d815-8677-48c7-e727-60d323eea457"
      },
      "execution_count": null,
      "outputs": [
        {
          "output_type": "execute_result",
          "data": {
            "text/plain": [
              "user_id  \n",
              "527021202    1092\n",
              "576802932     693\n",
              "580187026     434\n",
              "579751441     422\n",
              "467810091     405\n",
              "             ... \n",
              "573475925       1\n",
              "573482698       1\n",
              "573517467       1\n",
              "573518234       1\n",
              "580514828       1\n",
              "Length: 16164, dtype: int64"
            ]
          },
          "metadata": {},
          "execution_count": 25
        }
      ]
    },
    {
      "cell_type": "code",
      "source": [
        "df = df.drop_duplicates()"
      ],
      "metadata": {
        "id": "w8EAilvmbVc2"
      },
      "execution_count": null,
      "outputs": []
    },
    {
      "cell_type": "code",
      "source": [
        "df[['user_id','price']].groupby('user_id').sum().sort_values('price').reset_index()"
      ],
      "metadata": {
        "id": "1_31ZTWLZxIP"
      },
      "execution_count": null,
      "outputs": []
    },
    {
      "cell_type": "code",
      "source": [
        "df[['user_id','price']].groupby('user_id').mean().sort_values('price').reset_index()"
      ],
      "metadata": {
        "id": "Unt8qRXTeGx5"
      },
      "execution_count": null,
      "outputs": []
    },
    {
      "cell_type": "code",
      "source": [
        "df['event_type'].value_counts()"
      ],
      "metadata": {
        "id": "4FQ-JTklaVhI"
      },
      "execution_count": null,
      "outputs": []
    },
    {
      "cell_type": "code",
      "source": [
        "df[df['user_id'] == 576802932][['user_id', 'event_type']].value_counts()"
      ],
      "metadata": {
        "id": "5r7mzxuPcQLx"
      },
      "execution_count": null,
      "outputs": []
    },
    {
      "cell_type": "code",
      "source": [
        "df[df['price']<0][[ 'user_id' ,'price']] #Outliers negativos"
      ],
      "metadata": {
        "id": "ul3zHoPudc38"
      },
      "execution_count": null,
      "outputs": []
    },
    {
      "cell_type": "code",
      "source": [
        "delete = df[df['price']<0]\n",
        "df = df.drop(delete.index, axis = 0)"
      ],
      "metadata": {
        "id": "zphmn64sfb_l"
      },
      "execution_count": null,
      "outputs": []
    },
    {
      "cell_type": "code",
      "source": [
        "df['event_time'] = df['event_time'].apply(lambda x: x[0:10])"
      ],
      "metadata": {
        "id": "-65GyK_1gwTT"
      },
      "execution_count": null,
      "outputs": []
    },
    {
      "cell_type": "code",
      "source": [
        "df['event_time'] = pd.to_datetime(df['event_time'])"
      ],
      "metadata": {
        "id": "BeFwSDKQkN4R"
      },
      "execution_count": null,
      "outputs": []
    },
    {
      "cell_type": "code",
      "source": [
        "def leitura(path):\n",
        "  df = pd.read_csv(path)\n",
        "  return df"
      ],
      "metadata": {
        "id": "zjHDt8haloV_"
      },
      "execution_count": null,
      "outputs": []
    },
    {
      "cell_type": "code",
      "source": [
        "def tratamento(df):\n",
        "  df = df.drop(['category_code', 'brand'], axis=1)\n",
        "  df = df.drop_duplicates()\n",
        "  delete = df[df['price']<0]\n",
        "  df = df.drop(delete.index, axis = 0)\n",
        "  df['event_time'] = df['event_time'].apply(lambda x: x[0:10])\n",
        "  df['event_time'] = pd.to_datetime(df['event_time'])\n",
        "  return df"
      ],
      "metadata": {
        "id": "mAkJF2vQkW73"
      },
      "execution_count": null,
      "outputs": []
    },
    {
      "cell_type": "code",
      "source": [
        "df2 = leitura('/content/drive/MyDrive/Arquivos/2020-Jan.csv')"
      ],
      "metadata": {
        "id": "wssyF0-alWPr"
      },
      "execution_count": null,
      "outputs": []
    },
    {
      "cell_type": "code",
      "source": [
        "tratamento(df2)"
      ],
      "metadata": {
        "id": "xJpqRBKpmb_w"
      },
      "execution_count": null,
      "outputs": []
    },
    {
      "cell_type": "code",
      "source": [
        "pd.to_csv(df1)"
      ],
      "metadata": {
        "id": "MaG0FE8Tm3SM"
      },
      "execution_count": null,
      "outputs": []
    },
    {
      "cell_type": "code",
      "source": [
        ""
      ],
      "metadata": {
        "id": "XAWUqWwf2BXa"
      },
      "execution_count": null,
      "outputs": []
    }
  ]
}